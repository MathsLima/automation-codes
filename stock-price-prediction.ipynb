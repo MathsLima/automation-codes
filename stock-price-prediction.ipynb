{
 "cells": [
  {
   "cell_type": "code",
   "execution_count": 16,
   "metadata": {},
   "outputs": [],
   "source": [
    "# Esta IA utiliza a rede neural chamada Long Short Term Memory para prever as ações de fechamento de uma empresa usando o preço das açõs dos ultimos 60 dias. "
   ]
  },
  {
   "cell_type": "code",
   "execution_count": 17,
   "metadata": {},
   "outputs": [],
   "source": [
    "import imp\n",
    "import math\n",
    "import pandas_datareader as web\n",
    "import numpy as np\n",
    "import pandas as pd\n",
    "from sklearn.preprocessing import MinMaxScaler\n",
    "from keras.models import Sequential\n",
    "from keras.layers import Dense, LSTM\n",
    "import matplotlib.pyplot as plt"
   ]
  },
  {
   "cell_type": "code",
   "execution_count": 18,
   "metadata": {},
   "outputs": [
    {
     "data": {
      "text/html": [
       "<div>\n",
       "<style scoped>\n",
       "    .dataframe tbody tr th:only-of-type {\n",
       "        vertical-align: middle;\n",
       "    }\n",
       "\n",
       "    .dataframe tbody tr th {\n",
       "        vertical-align: top;\n",
       "    }\n",
       "\n",
       "    .dataframe thead th {\n",
       "        text-align: right;\n",
       "    }\n",
       "</style>\n",
       "<table border=\"1\" class=\"dataframe\">\n",
       "  <thead>\n",
       "    <tr style=\"text-align: right;\">\n",
       "      <th></th>\n",
       "      <th>High</th>\n",
       "      <th>Low</th>\n",
       "      <th>Open</th>\n",
       "      <th>Close</th>\n",
       "      <th>Volume</th>\n",
       "      <th>Adj Close</th>\n",
       "    </tr>\n",
       "    <tr>\n",
       "      <th>Date</th>\n",
       "      <th></th>\n",
       "      <th></th>\n",
       "      <th></th>\n",
       "      <th></th>\n",
       "      <th></th>\n",
       "      <th></th>\n",
       "    </tr>\n",
       "  </thead>\n",
       "  <tbody>\n",
       "    <tr>\n",
       "      <th>2012-01-03</th>\n",
       "      <td>14.732143</td>\n",
       "      <td>14.607143</td>\n",
       "      <td>14.621429</td>\n",
       "      <td>14.686786</td>\n",
       "      <td>302220800.0</td>\n",
       "      <td>12.540047</td>\n",
       "    </tr>\n",
       "    <tr>\n",
       "      <th>2012-01-04</th>\n",
       "      <td>14.810000</td>\n",
       "      <td>14.617143</td>\n",
       "      <td>14.642857</td>\n",
       "      <td>14.765714</td>\n",
       "      <td>260022000.0</td>\n",
       "      <td>12.607439</td>\n",
       "    </tr>\n",
       "    <tr>\n",
       "      <th>2012-01-05</th>\n",
       "      <td>14.948214</td>\n",
       "      <td>14.738214</td>\n",
       "      <td>14.819643</td>\n",
       "      <td>14.929643</td>\n",
       "      <td>271269600.0</td>\n",
       "      <td>12.747405</td>\n",
       "    </tr>\n",
       "    <tr>\n",
       "      <th>2012-01-06</th>\n",
       "      <td>15.098214</td>\n",
       "      <td>14.972143</td>\n",
       "      <td>14.991786</td>\n",
       "      <td>15.085714</td>\n",
       "      <td>318292800.0</td>\n",
       "      <td>12.880667</td>\n",
       "    </tr>\n",
       "    <tr>\n",
       "      <th>2012-01-09</th>\n",
       "      <td>15.276786</td>\n",
       "      <td>15.048214</td>\n",
       "      <td>15.196429</td>\n",
       "      <td>15.061786</td>\n",
       "      <td>394024400.0</td>\n",
       "      <td>12.860236</td>\n",
       "    </tr>\n",
       "    <tr>\n",
       "      <th>...</th>\n",
       "      <td>...</td>\n",
       "      <td>...</td>\n",
       "      <td>...</td>\n",
       "      <td>...</td>\n",
       "      <td>...</td>\n",
       "      <td>...</td>\n",
       "    </tr>\n",
       "    <tr>\n",
       "      <th>2022-09-26</th>\n",
       "      <td>153.770004</td>\n",
       "      <td>149.639999</td>\n",
       "      <td>149.660004</td>\n",
       "      <td>150.770004</td>\n",
       "      <td>93339400.0</td>\n",
       "      <td>150.770004</td>\n",
       "    </tr>\n",
       "    <tr>\n",
       "      <th>2022-09-27</th>\n",
       "      <td>154.720001</td>\n",
       "      <td>149.949997</td>\n",
       "      <td>152.740005</td>\n",
       "      <td>151.759995</td>\n",
       "      <td>84442700.0</td>\n",
       "      <td>151.759995</td>\n",
       "    </tr>\n",
       "    <tr>\n",
       "      <th>2022-09-28</th>\n",
       "      <td>150.639999</td>\n",
       "      <td>144.839996</td>\n",
       "      <td>147.639999</td>\n",
       "      <td>149.839996</td>\n",
       "      <td>146691400.0</td>\n",
       "      <td>149.839996</td>\n",
       "    </tr>\n",
       "    <tr>\n",
       "      <th>2022-09-29</th>\n",
       "      <td>146.720001</td>\n",
       "      <td>140.679993</td>\n",
       "      <td>146.100006</td>\n",
       "      <td>142.479996</td>\n",
       "      <td>128138200.0</td>\n",
       "      <td>142.479996</td>\n",
       "    </tr>\n",
       "    <tr>\n",
       "      <th>2022-09-30</th>\n",
       "      <td>143.100006</td>\n",
       "      <td>138.000000</td>\n",
       "      <td>141.279999</td>\n",
       "      <td>138.199997</td>\n",
       "      <td>124705400.0</td>\n",
       "      <td>138.199997</td>\n",
       "    </tr>\n",
       "  </tbody>\n",
       "</table>\n",
       "<p>2705 rows × 6 columns</p>\n",
       "</div>"
      ],
      "text/plain": [
       "                  High         Low        Open       Close       Volume  \\\n",
       "Date                                                                      \n",
       "2012-01-03   14.732143   14.607143   14.621429   14.686786  302220800.0   \n",
       "2012-01-04   14.810000   14.617143   14.642857   14.765714  260022000.0   \n",
       "2012-01-05   14.948214   14.738214   14.819643   14.929643  271269600.0   \n",
       "2012-01-06   15.098214   14.972143   14.991786   15.085714  318292800.0   \n",
       "2012-01-09   15.276786   15.048214   15.196429   15.061786  394024400.0   \n",
       "...                ...         ...         ...         ...          ...   \n",
       "2022-09-26  153.770004  149.639999  149.660004  150.770004   93339400.0   \n",
       "2022-09-27  154.720001  149.949997  152.740005  151.759995   84442700.0   \n",
       "2022-09-28  150.639999  144.839996  147.639999  149.839996  146691400.0   \n",
       "2022-09-29  146.720001  140.679993  146.100006  142.479996  128138200.0   \n",
       "2022-09-30  143.100006  138.000000  141.279999  138.199997  124705400.0   \n",
       "\n",
       "             Adj Close  \n",
       "Date                    \n",
       "2012-01-03   12.540047  \n",
       "2012-01-04   12.607439  \n",
       "2012-01-05   12.747405  \n",
       "2012-01-06   12.880667  \n",
       "2012-01-09   12.860236  \n",
       "...                ...  \n",
       "2022-09-26  150.770004  \n",
       "2022-09-27  151.759995  \n",
       "2022-09-28  149.839996  \n",
       "2022-09-29  142.479996  \n",
       "2022-09-30  138.199997  \n",
       "\n",
       "[2705 rows x 6 columns]"
      ]
     },
     "execution_count": 18,
     "metadata": {},
     "output_type": "execute_result"
    }
   ],
   "source": [
    "#obtendo a cotação de ações\n",
    "df = web.DataReader('AAPL', data_source='yahoo', start='2012-01-01', end='2022-10-01')\n",
    "df"
   ]
  },
  {
   "cell_type": "code",
   "execution_count": 41,
   "metadata": {},
   "outputs": [
    {
     "data": {
      "image/png": "[encoded data removed]",
      "text/plain": [
       "<Figure size 1152x576 with 1 Axes>"
      ]
     },
     "metadata": {
      "needs_background": "light"
     },
     "output_type": "display_data"
    }
   ],
   "source": [
    "#Visualizando o histórico de preços de fechamento\n",
    "plt.figure(figsize=(16,8))\n",
    "plt.title('Historic Closing Price')\n",
    "plt.plot(df['Close'])\n",
    "plt.xlabel('Date', fontsize=15)\n",
    "plt.ylabel('Closing Price USD ($)', fontsize=15)\n",
    "plt.show()"
   ]
  },
  {
   "cell_type": "code",
   "execution_count": 20,
   "metadata": {},
   "outputs": [
    {
     "data": {
      "text/plain": [
       "2164"
      ]
     },
     "execution_count": 20,
     "metadata": {},
     "output_type": "execute_result"
    }
   ],
   "source": [
    "#criando um novo dataframe apenas oom a coluna de fechamento\n",
    "data = df.filter(['Close'])\n",
    "#convertendo o dataframe para um array numpy\n",
    "dataset = data.values\n",
    "#Pegando o numero de linhas para treinat o modelo IA\n",
    "training_data_len = math.ceil(len(dataset) * .8)\n",
    "training_data_len"
   ]
  },
  {
   "cell_type": "code",
   "execution_count": 21,
   "metadata": {},
   "outputs": [
    {
     "data": {
      "text/plain": [
       "array([[0.00439887],\n",
       "       [0.00486851],\n",
       "       [0.00584391],\n",
       "       ...,\n",
       "       [0.80858312],\n",
       "       [0.76478988],\n",
       "       [0.73932317]])"
      ]
     },
     "execution_count": 21,
     "metadata": {},
     "output_type": "execute_result"
    }
   ],
   "source": [
    "#Escalando os dados \n",
    "scaler = MinMaxScaler(feature_range=(0,1))\n",
    "scaled_data = scaler.fit_transform(dataset)\n",
    "scaled_data"
   ]
  },
  {
   "cell_type": "code",
   "execution_count": 22,
   "metadata": {},
   "outputs": [
    {
     "name": "stdout",
     "output_type": "stream",
     "text": [
      "[array([0.00439887, 0.00486851, 0.00584391, 0.00677256, 0.00663019,\n",
      "       0.00695107, 0.00680444, 0.00655793, 0.00622217, 0.00726133,\n",
      "       0.00819848, 0.00790947, 0.0063263 , 0.00783722, 0.00634968,\n",
      "       0.01192796, 0.01149658, 0.01205972, 0.01327737, 0.01401476,\n",
      "       0.01395314, 0.01372576, 0.01469479, 0.01560643, 0.01663922,\n",
      "       0.01830739, 0.02181161, 0.02186474, 0.02381555, 0.02527333,\n",
      "       0.0227679 , 0.02373267, 0.02371354, 0.02641875, 0.02603411,\n",
      "       0.026746  , 0.02802528, 0.02873719, 0.03078787, 0.03228178,\n",
      "       0.03271317, 0.03286405, 0.03030973, 0.02969346, 0.02978484,\n",
      "       0.03218616, 0.03286193, 0.03431335, 0.03773469, 0.04229932,\n",
      "       0.04144504, 0.04144716, 0.04474738, 0.04578017, 0.04504489,\n",
      "       0.04437338, 0.04367423, 0.04599691, 0.04759072, 0.04825798])]\n",
      "[0.04660893460974819]\n",
      "\n",
      "[array([0.00439887, 0.00486851, 0.00584391, 0.00677256, 0.00663019,\n",
      "       0.00695107, 0.00680444, 0.00655793, 0.00622217, 0.00726133,\n",
      "       0.00819848, 0.00790947, 0.0063263 , 0.00783722, 0.00634968,\n",
      "       0.01192796, 0.01149658, 0.01205972, 0.01327737, 0.01401476,\n",
      "       0.01395314, 0.01372576, 0.01469479, 0.01560643, 0.01663922,\n",
      "       0.01830739, 0.02181161, 0.02186474, 0.02381555, 0.02527333,\n",
      "       0.0227679 , 0.02373267, 0.02371354, 0.02641875, 0.02603411,\n",
      "       0.026746  , 0.02802528, 0.02873719, 0.03078787, 0.03228178,\n",
      "       0.03271317, 0.03286405, 0.03030973, 0.02969346, 0.02978484,\n",
      "       0.03218616, 0.03286193, 0.03431335, 0.03773469, 0.04229932,\n",
      "       0.04144504, 0.04144716, 0.04474738, 0.04578017, 0.04504489,\n",
      "       0.04437338, 0.04367423, 0.04599691, 0.04759072, 0.04825798]), array([0.00486851, 0.00584391, 0.00677256, 0.00663019, 0.00695107,\n",
      "       0.00680444, 0.00655793, 0.00622217, 0.00726133, 0.00819848,\n",
      "       0.00790947, 0.0063263 , 0.00783722, 0.00634968, 0.01192796,\n",
      "       0.01149658, 0.01205972, 0.01327737, 0.01401476, 0.01395314,\n",
      "       0.01372576, 0.01469479, 0.01560643, 0.01663922, 0.01830739,\n",
      "       0.02181161, 0.02186474, 0.02381555, 0.02527333, 0.0227679 ,\n",
      "       0.02373267, 0.02371354, 0.02641875, 0.02603411, 0.026746  ,\n",
      "       0.02802528, 0.02873719, 0.03078787, 0.03228178, 0.03271317,\n",
      "       0.03286405, 0.03030973, 0.02969346, 0.02978484, 0.03218616,\n",
      "       0.03286193, 0.03431335, 0.03773469, 0.04229932, 0.04144504,\n",
      "       0.04144716, 0.04474738, 0.04578017, 0.04504489, 0.04437338,\n",
      "       0.04367423, 0.04599691, 0.04759072, 0.04825798, 0.04660893])]\n",
      "[0.04660893460974819, 0.04441800167645807]\n",
      "\n"
     ]
    }
   ],
   "source": [
    "#criando um dataset de treino\n",
    "train_data = scaled_data[0:training_data_len, :]\n",
    "#dividindo os dados em datasets x_train e y_train \n",
    "x_train = []\n",
    "y_train = []\n",
    "\n",
    "for i in range(60, len(train_data)):   #60 pois é os ultimos 60 disa de analise\n",
    "    x_train.append(train_data[i-60:i, 0])\n",
    "    y_train.append(train_data[i, 0])\n",
    "    if i <= 61:\n",
    "        print(x_train)\n",
    "        print(y_train)\n",
    "        print()"
   ]
  },
  {
   "cell_type": "code",
   "execution_count": 23,
   "metadata": {},
   "outputs": [
    {
     "data": {
      "text/plain": [
       "(2104, 60, 1)"
      ]
     },
     "execution_count": 23,
     "metadata": {},
     "output_type": "execute_result"
    }
   ],
   "source": [
    "#convertendo x_train e y_train em array numpy\n",
    "x_train, y_train = np.array(x_train), np.array(y_train)\n",
    "\n",
    "x_train = np.reshape(x_train, (x_train.shape[0], x_train.shape[1], 1))\n",
    "x_train.shape"
   ]
  },
  {
   "cell_type": "code",
   "execution_count": 24,
   "metadata": {},
   "outputs": [],
   "source": [
    "#Construindo o modelo LSTM\n",
    "model = Sequential()\n",
    "model.add(LSTM(50, return_sequences=True, input_shape=(x_train.shape[1], 1)))\n",
    "model.add(LSTM(50, return_sequences=False))\n",
    "model.add(Dense(25))\n",
    "model.add(Dense(1))"
   ]
  },
  {
   "cell_type": "code",
   "execution_count": 25,
   "metadata": {},
   "outputs": [],
   "source": [
    "#Compilando o modelo \n",
    "model.compile(optimizer='adam', loss='mean_squared_error')"
   ]
  },
  {
   "cell_type": "code",
   "execution_count": 26,
   "metadata": {},
   "outputs": [
    {
     "name": "stdout",
     "output_type": "stream",
     "text": [
      "2104/2104 [==============================] - 109s 48ms/step - loss: 3.2067e-04\n"
     ]
    },
    {
     "data": {
      "text/plain": [
       "<keras.callbacks.History at 0x11e4f15de80>"
      ]
     },
     "execution_count": 26,
     "metadata": {},
     "output_type": "execute_result"
    }
   ],
   "source": [
    "#Treinando o modelo \n",
    "model.fit(x_train, y_train, batch_size=1, epochs=1)"
   ]
  },
  {
   "cell_type": "code",
   "execution_count": 27,
   "metadata": {},
   "outputs": [],
   "source": [
    "#criando um dataset para teste \n",
    "#array com valores escalados de 2104 até 2500\n",
    "test_data = scaled_data[training_data_len - 60: , :]\n",
    "#criando os dataset x_test e y_test\n",
    "x_test = []\n",
    "y_test = dataset[training_data_len: , :]\n",
    "for i in range(60, len(test_data)):\n",
    "    x_test.append(test_data[i-60:i, 0])"
   ]
  },
  {
   "cell_type": "code",
   "execution_count": 28,
   "metadata": {},
   "outputs": [],
   "source": [
    "#convertendo os dados em numpy\n",
    "x_test = np.array(x_test)"
   ]
  },
  {
   "cell_type": "code",
   "execution_count": 29,
   "metadata": {},
   "outputs": [],
   "source": [
    "#remodelando os dados\n",
    "x_test = np.reshape(x_test, (x_test.shape[0], x_test.shape[1], 1))"
   ]
  },
  {
   "cell_type": "code",
   "execution_count": 30,
   "metadata": {},
   "outputs": [
    {
     "name": "stdout",
     "output_type": "stream",
     "text": [
      "17/17 [==============================] - 4s 35ms/step\n"
     ]
    }
   ],
   "source": [
    "#prevendo os valores\n",
    "predictions = model.predict(x_test)\n",
    "predictions = scaler.inverse_transform(predictions)"
   ]
  },
  {
   "cell_type": "code",
   "execution_count": 31,
   "metadata": {},
   "outputs": [
    {
     "data": {
      "text/plain": [
       "10.211683516581706"
      ]
     },
     "execution_count": 31,
     "metadata": {},
     "output_type": "execute_result"
    }
   ],
   "source": [
    "#obtendo o erro quadratico medio (RMSE)\n",
    "rmse = np.sqrt(np.mean(predictions - y_test)**2)\n",
    "rmse"
   ]
  },
  {
   "cell_type": "code",
   "execution_count": 40,
   "metadata": {},
   "outputs": [
    {
     "name": "stderr",
     "output_type": "stream",
     "text": [
      "C:\\Users\\mathe\\AppData\\Local\\Temp/ipykernel_2124/3126287769.py:4: SettingWithCopyWarning: \n",
      "A value is trying to be set on a copy of a slice from a DataFrame.\n",
      "Try using .loc[row_indexer,col_indexer] = value instead\n",
      "\n",
      "See the caveats in the documentation: https://pandas.pydata.org/pandas-docs/stable/user_guide/indexing.html#returning-a-view-versus-a-copy\n",
      "  valid['Predictions'] = predictions\n"
     ]
    },
    {
     "data": {
      "image/png": "[encoded data removed]",
      "text/plain": [
       "<Figure size 1152x576 with 1 Axes>"
      ]
     },
     "metadata": {
      "needs_background": "light"
     },
     "output_type": "display_data"
    }
   ],
   "source": [
    "#grafico dos dados\n",
    "train = data[:training_data_len]\n",
    "valid = data[training_data_len:]\n",
    "valid['Predictions'] = predictions\n",
    "#visualizando os dados\n",
    "plt.figure(figsize=(16,8))\n",
    "plt.title('Model')\n",
    "plt.xlabel('Date', fontsize=18)\n",
    "plt.ylabel('Closing Price USD ($)', fontsize=18)\n",
    "plt.plot(train['Close'])\n",
    "plt.plot(valid[['Close', 'Predictions']])\n",
    "plt.legend(['Train', 'Val', 'Predictions'], loc ='lower right')\n",
    "plt.show()"
   ]
  },
  {
   "cell_type": "code",
   "execution_count": 42,
   "metadata": {},
   "outputs": [
    {
     "data": {
      "text/html": [
       "<div>\n",
       "<style scoped>\n",
       "    .dataframe tbody tr th:only-of-type {\n",
       "        vertical-align: middle;\n",
       "    }\n",
       "\n",
       "    .dataframe tbody tr th {\n",
       "        vertical-align: top;\n",
       "    }\n",
       "\n",
       "    .dataframe thead th {\n",
       "        text-align: right;\n",
       "    }\n",
       "</style>\n",
       "<table border=\"1\" class=\"dataframe\">\n",
       "  <thead>\n",
       "    <tr style=\"text-align: right;\">\n",
       "      <th></th>\n",
       "      <th>Close</th>\n",
       "      <th>Predictions</th>\n",
       "    </tr>\n",
       "    <tr>\n",
       "      <th>Date</th>\n",
       "      <th></th>\n",
       "      <th></th>\n",
       "    </tr>\n",
       "  </thead>\n",
       "  <tbody>\n",
       "    <tr>\n",
       "      <th>2020-08-10</th>\n",
       "      <td>112.727501</td>\n",
       "      <td>114.604782</td>\n",
       "    </tr>\n",
       "    <tr>\n",
       "      <th>2020-08-11</th>\n",
       "      <td>109.375000</td>\n",
       "      <td>116.110588</td>\n",
       "    </tr>\n",
       "    <tr>\n",
       "      <th>2020-08-12</th>\n",
       "      <td>113.010002</td>\n",
       "      <td>116.610359</td>\n",
       "    </tr>\n",
       "    <tr>\n",
       "      <th>2020-08-13</th>\n",
       "      <td>115.010002</td>\n",
       "      <td>117.328270</td>\n",
       "    </tr>\n",
       "    <tr>\n",
       "      <th>2020-08-14</th>\n",
       "      <td>114.907501</td>\n",
       "      <td>118.347076</td>\n",
       "    </tr>\n",
       "    <tr>\n",
       "      <th>...</th>\n",
       "      <td>...</td>\n",
       "      <td>...</td>\n",
       "    </tr>\n",
       "    <tr>\n",
       "      <th>2022-09-26</th>\n",
       "      <td>150.770004</td>\n",
       "      <td>165.219101</td>\n",
       "    </tr>\n",
       "    <tr>\n",
       "      <th>2022-09-27</th>\n",
       "      <td>151.759995</td>\n",
       "      <td>164.418671</td>\n",
       "    </tr>\n",
       "    <tr>\n",
       "      <th>2022-09-28</th>\n",
       "      <td>149.839996</td>\n",
       "      <td>163.946518</td>\n",
       "    </tr>\n",
       "    <tr>\n",
       "      <th>2022-09-29</th>\n",
       "      <td>142.479996</td>\n",
       "      <td>163.285767</td>\n",
       "    </tr>\n",
       "    <tr>\n",
       "      <th>2022-09-30</th>\n",
       "      <td>138.199997</td>\n",
       "      <td>161.247665</td>\n",
       "    </tr>\n",
       "  </tbody>\n",
       "</table>\n",
       "<p>541 rows × 2 columns</p>\n",
       "</div>"
      ],
      "text/plain": [
       "                 Close  Predictions\n",
       "Date                               \n",
       "2020-08-10  112.727501   114.604782\n",
       "2020-08-11  109.375000   116.110588\n",
       "2020-08-12  113.010002   116.610359\n",
       "2020-08-13  115.010002   117.328270\n",
       "2020-08-14  114.907501   118.347076\n",
       "...                ...          ...\n",
       "2022-09-26  150.770004   165.219101\n",
       "2022-09-27  151.759995   164.418671\n",
       "2022-09-28  149.839996   163.946518\n",
       "2022-09-29  142.479996   163.285767\n",
       "2022-09-30  138.199997   161.247665\n",
       "\n",
       "[541 rows x 2 columns]"
      ]
     },
     "execution_count": 42,
     "metadata": {},
     "output_type": "execute_result"
    }
   ],
   "source": [
    "#valores do fechamento real e da previsao\n",
    "valid"
   ]
  }
 ],
 "metadata": {
  "kernelspec": {
   "display_name": "Python 3.9.7 ('base')",
   "language": "python",
   "name": "python3"
  },
  "language_info": {
   "codemirror_mode": {
    "name": "ipython",
    "version": 3
   },
   "file_extension": ".py",
   "mimetype": "text/x-python",
   "name": "python",
   "nbconvert_exporter": "python",
   "pygments_lexer": "ipython3",
   "version": "3.9.7"
  },
  "orig_nbformat": 4,
  "vscode": {
   "interpreter": {
    "hash": "5059410d96f66ac41e86b3be55b3f375928dfca412bf50ffc524abd854274d4f"
   }
  }
 },
 "nbformat": 4,
 "nbformat_minor": 2
}
